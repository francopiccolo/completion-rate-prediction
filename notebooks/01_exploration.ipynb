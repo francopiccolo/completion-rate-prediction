{
 "cells": [
  {
   "cell_type": "code",
   "execution_count": 2,
   "metadata": {},
   "outputs": [
    {
     "data": {
      "text/plain": [
       "'/Users/francopiccolo/GitHub/completion-rate-prediction/notebooks'"
      ]
     },
     "execution_count": 2,
     "metadata": {},
     "output_type": "execute_result"
    }
   ],
   "source": [
    "import os\n",
    "os.getcwd()"
   ]
  },
  {
   "cell_type": "code",
   "execution_count": 3,
   "metadata": {},
   "outputs": [
    {
     "data": {
      "text/plain": [
       "'/Users/francopiccolo/GitHub/completion-rate-prediction'"
      ]
     },
     "execution_count": 3,
     "metadata": {},
     "output_type": "execute_result"
    }
   ],
   "source": [
    "os.chdir('../')\n",
    "os.getcwd()"
   ]
  },
  {
   "cell_type": "code",
   "execution_count": 4,
   "metadata": {},
   "outputs": [],
   "source": [
    "import pandas as pd"
   ]
  },
  {
   "cell_type": "code",
   "execution_count": 5,
   "metadata": {},
   "outputs": [],
   "source": [
    "# Data load\n",
    "df = pd.read_csv('./flask/data/completion_rate.csv')"
   ]
  },
  {
   "cell_type": "code",
   "execution_count": 6,
   "metadata": {},
   "outputs": [
    {
     "data": {
      "text/plain": [
       "(1031284, 50)"
      ]
     },
     "execution_count": 6,
     "metadata": {},
     "output_type": "execute_result"
    }
   ],
   "source": [
    "df.shape"
   ]
  },
  {
   "cell_type": "code",
   "execution_count": 7,
   "metadata": {},
   "outputs": [
    {
     "data": {
      "text/html": [
       "<div>\n",
       "<style scoped>\n",
       "    .dataframe tbody tr th:only-of-type {\n",
       "        vertical-align: middle;\n",
       "    }\n",
       "\n",
       "    .dataframe tbody tr th {\n",
       "        vertical-align: top;\n",
       "    }\n",
       "\n",
       "    .dataframe thead th {\n",
       "        text-align: right;\n",
       "    }\n",
       "</style>\n",
       "<table border=\"1\" class=\"dataframe\">\n",
       "  <thead>\n",
       "    <tr style=\"text-align: right;\">\n",
       "      <th></th>\n",
       "      <th>form_id</th>\n",
       "      <th>views</th>\n",
       "      <th>submissions</th>\n",
       "      <th>feat_01</th>\n",
       "      <th>feat_02</th>\n",
       "      <th>feat_03</th>\n",
       "      <th>feat_04</th>\n",
       "      <th>feat_05</th>\n",
       "      <th>feat_06</th>\n",
       "      <th>feat_07</th>\n",
       "      <th>...</th>\n",
       "      <th>feat_38</th>\n",
       "      <th>feat_39</th>\n",
       "      <th>feat_40</th>\n",
       "      <th>feat_41</th>\n",
       "      <th>feat_42</th>\n",
       "      <th>feat_43</th>\n",
       "      <th>feat_44</th>\n",
       "      <th>feat_45</th>\n",
       "      <th>feat_46</th>\n",
       "      <th>feat_47</th>\n",
       "    </tr>\n",
       "  </thead>\n",
       "  <tbody>\n",
       "    <tr>\n",
       "      <th>0</th>\n",
       "      <td>1113027</td>\n",
       "      <td>33</td>\n",
       "      <td>27</td>\n",
       "      <td>0.0</td>\n",
       "      <td>0.0</td>\n",
       "      <td>0.0</td>\n",
       "      <td>0.0</td>\n",
       "      <td>0.0</td>\n",
       "      <td>0.0</td>\n",
       "      <td>1.0</td>\n",
       "      <td>...</td>\n",
       "      <td>0.0</td>\n",
       "      <td>0.0</td>\n",
       "      <td>0.0</td>\n",
       "      <td>0.0</td>\n",
       "      <td>0.0</td>\n",
       "      <td>0.0</td>\n",
       "      <td>0.0</td>\n",
       "      <td>2.0</td>\n",
       "      <td>1.0</td>\n",
       "      <td>2.0</td>\n",
       "    </tr>\n",
       "    <tr>\n",
       "      <th>1</th>\n",
       "      <td>1115313</td>\n",
       "      <td>147</td>\n",
       "      <td>111</td>\n",
       "      <td>0.0</td>\n",
       "      <td>2.0</td>\n",
       "      <td>0.0</td>\n",
       "      <td>0.0</td>\n",
       "      <td>0.0</td>\n",
       "      <td>0.0</td>\n",
       "      <td>0.0</td>\n",
       "      <td>...</td>\n",
       "      <td>0.0</td>\n",
       "      <td>0.0</td>\n",
       "      <td>0.0</td>\n",
       "      <td>0.0</td>\n",
       "      <td>0.0</td>\n",
       "      <td>0.0</td>\n",
       "      <td>0.0</td>\n",
       "      <td>0.0</td>\n",
       "      <td>0.0</td>\n",
       "      <td>0.0</td>\n",
       "    </tr>\n",
       "    <tr>\n",
       "      <th>2</th>\n",
       "      <td>1115907</td>\n",
       "      <td>528</td>\n",
       "      <td>136</td>\n",
       "      <td>0.0</td>\n",
       "      <td>1.0</td>\n",
       "      <td>0.0</td>\n",
       "      <td>0.0</td>\n",
       "      <td>1.0</td>\n",
       "      <td>0.0</td>\n",
       "      <td>6.0</td>\n",
       "      <td>...</td>\n",
       "      <td>0.0</td>\n",
       "      <td>0.0</td>\n",
       "      <td>0.0</td>\n",
       "      <td>0.0</td>\n",
       "      <td>1.0</td>\n",
       "      <td>1.0</td>\n",
       "      <td>0.0</td>\n",
       "      <td>0.0</td>\n",
       "      <td>0.0</td>\n",
       "      <td>30.0</td>\n",
       "    </tr>\n",
       "    <tr>\n",
       "      <th>3</th>\n",
       "      <td>1116299</td>\n",
       "      <td>55</td>\n",
       "      <td>21</td>\n",
       "      <td>0.0</td>\n",
       "      <td>2.0</td>\n",
       "      <td>0.0</td>\n",
       "      <td>0.0</td>\n",
       "      <td>0.0</td>\n",
       "      <td>1.0</td>\n",
       "      <td>2.0</td>\n",
       "      <td>...</td>\n",
       "      <td>0.0</td>\n",
       "      <td>0.0</td>\n",
       "      <td>0.0</td>\n",
       "      <td>1.0</td>\n",
       "      <td>0.0</td>\n",
       "      <td>0.0</td>\n",
       "      <td>0.0</td>\n",
       "      <td>0.0</td>\n",
       "      <td>0.0</td>\n",
       "      <td>7.0</td>\n",
       "    </tr>\n",
       "    <tr>\n",
       "      <th>4</th>\n",
       "      <td>1120373</td>\n",
       "      <td>62</td>\n",
       "      <td>54</td>\n",
       "      <td>0.0</td>\n",
       "      <td>0.0</td>\n",
       "      <td>0.0</td>\n",
       "      <td>0.0</td>\n",
       "      <td>1.0</td>\n",
       "      <td>0.0</td>\n",
       "      <td>4.0</td>\n",
       "      <td>...</td>\n",
       "      <td>0.0</td>\n",
       "      <td>0.0</td>\n",
       "      <td>0.0</td>\n",
       "      <td>0.0</td>\n",
       "      <td>1.0</td>\n",
       "      <td>1.0</td>\n",
       "      <td>1.0</td>\n",
       "      <td>11.0</td>\n",
       "      <td>7.0</td>\n",
       "      <td>21.0</td>\n",
       "    </tr>\n",
       "  </tbody>\n",
       "</table>\n",
       "<p>5 rows × 50 columns</p>\n",
       "</div>"
      ],
      "text/plain": [
       "   form_id  views  submissions  feat_01  feat_02  feat_03  feat_04  feat_05  \\\n",
       "0  1113027     33           27      0.0      0.0      0.0      0.0      0.0   \n",
       "1  1115313    147          111      0.0      2.0      0.0      0.0      0.0   \n",
       "2  1115907    528          136      0.0      1.0      0.0      0.0      1.0   \n",
       "3  1116299     55           21      0.0      2.0      0.0      0.0      0.0   \n",
       "4  1120373     62           54      0.0      0.0      0.0      0.0      1.0   \n",
       "\n",
       "   feat_06  feat_07  ...  feat_38  feat_39  feat_40  feat_41  feat_42  \\\n",
       "0      0.0      1.0  ...      0.0      0.0      0.0      0.0      0.0   \n",
       "1      0.0      0.0  ...      0.0      0.0      0.0      0.0      0.0   \n",
       "2      0.0      6.0  ...      0.0      0.0      0.0      0.0      1.0   \n",
       "3      1.0      2.0  ...      0.0      0.0      0.0      1.0      0.0   \n",
       "4      0.0      4.0  ...      0.0      0.0      0.0      0.0      1.0   \n",
       "\n",
       "   feat_43  feat_44  feat_45  feat_46  feat_47  \n",
       "0      0.0      0.0      2.0      1.0      2.0  \n",
       "1      0.0      0.0      0.0      0.0      0.0  \n",
       "2      1.0      0.0      0.0      0.0     30.0  \n",
       "3      0.0      0.0      0.0      0.0      7.0  \n",
       "4      1.0      1.0     11.0      7.0     21.0  \n",
       "\n",
       "[5 rows x 50 columns]"
      ]
     },
     "execution_count": 7,
     "metadata": {},
     "output_type": "execute_result"
    }
   ],
   "source": [
    "df.head()"
   ]
  },
  {
   "cell_type": "code",
   "execution_count": 50,
   "metadata": {},
   "outputs": [],
   "source": [
    "df['completion_rate'] = df['submissions'] / df['views']"
   ]
  },
  {
   "cell_type": "code",
   "execution_count": 12,
   "metadata": {},
   "outputs": [
    {
     "name": "stdout",
     "output_type": "stream",
     "text": [
      "<class 'pandas.core.frame.DataFrame'>\n",
      "RangeIndex: 1031284 entries, 0 to 1031283\n",
      "Data columns (total 50 columns):\n",
      " #   Column       Non-Null Count    Dtype  \n",
      "---  ------       --------------    -----  \n",
      " 0   form_id      1031284 non-null  int64  \n",
      " 1   views        1031284 non-null  int64  \n",
      " 2   submissions  1031284 non-null  int64  \n",
      " 3   feat_01      1031284 non-null  float64\n",
      " 4   feat_02      1031284 non-null  float64\n",
      " 5   feat_03      1031284 non-null  float64\n",
      " 6   feat_04      1031284 non-null  float64\n",
      " 7   feat_05      1031284 non-null  float64\n",
      " 8   feat_06      1031284 non-null  float64\n",
      " 9   feat_07      1031284 non-null  float64\n",
      " 10  feat_08      1031284 non-null  float64\n",
      " 11  feat_09      1031284 non-null  float64\n",
      " 12  feat_10      1031284 non-null  float64\n",
      " 13  feat_11      1031284 non-null  float64\n",
      " 14  feat_12      1031284 non-null  float64\n",
      " 15  feat_13      1031284 non-null  float64\n",
      " 16  feat_14      1031284 non-null  float64\n",
      " 17  feat_15      1031284 non-null  float64\n",
      " 18  feat_16      1031284 non-null  float64\n",
      " 19  feat_17      1031284 non-null  float64\n",
      " 20  feat_18      1031284 non-null  float64\n",
      " 21  feat_19      1031284 non-null  float64\n",
      " 22  feat_20      1031284 non-null  float64\n",
      " 23  feat_21      1031284 non-null  float64\n",
      " 24  feat_22      1031284 non-null  float64\n",
      " 25  feat_23      1031284 non-null  float64\n",
      " 26  feat_24      1031284 non-null  float64\n",
      " 27  feat_25      1031284 non-null  float64\n",
      " 28  feat_26      1031284 non-null  float64\n",
      " 29  feat_27      1031284 non-null  float64\n",
      " 30  feat_28      1031284 non-null  float64\n",
      " 31  feat_29      1031284 non-null  float64\n",
      " 32  feat_30      1031284 non-null  float64\n",
      " 33  feat_31      1031284 non-null  float64\n",
      " 34  feat_32      1031284 non-null  float64\n",
      " 35  feat_33      1031284 non-null  float64\n",
      " 36  feat_34      1031284 non-null  float64\n",
      " 37  feat_35      1031284 non-null  float64\n",
      " 38  feat_36      1031284 non-null  float64\n",
      " 39  feat_37      1031284 non-null  float64\n",
      " 40  feat_38      1031284 non-null  float64\n",
      " 41  feat_39      1031284 non-null  float64\n",
      " 42  feat_40      1031284 non-null  float64\n",
      " 43  feat_41      1031284 non-null  float64\n",
      " 44  feat_42      1031284 non-null  float64\n",
      " 45  feat_43      1031284 non-null  float64\n",
      " 46  feat_44      1031284 non-null  float64\n",
      " 47  feat_45      1031284 non-null  float64\n",
      " 48  feat_46      1031284 non-null  float64\n",
      " 49  feat_47      1031284 non-null  float64\n",
      "dtypes: float64(47), int64(3)\n",
      "memory usage: 393.4 MB\n"
     ]
    }
   ],
   "source": [
    "df.info()"
   ]
  },
  {
   "cell_type": "code",
   "execution_count": 35,
   "metadata": {},
   "outputs": [],
   "source": [
    "features = [col for col in df.columns if col.startswith('feat')]"
   ]
  },
  {
   "cell_type": "code",
   "execution_count": 15,
   "metadata": {},
   "outputs": [
    {
     "data": {
      "text/html": [
       "<div>\n",
       "<style scoped>\n",
       "    .dataframe tbody tr th:only-of-type {\n",
       "        vertical-align: middle;\n",
       "    }\n",
       "\n",
       "    .dataframe tbody tr th {\n",
       "        vertical-align: top;\n",
       "    }\n",
       "\n",
       "    .dataframe thead th {\n",
       "        text-align: right;\n",
       "    }\n",
       "</style>\n",
       "<table border=\"1\" class=\"dataframe\">\n",
       "  <thead>\n",
       "    <tr style=\"text-align: right;\">\n",
       "      <th></th>\n",
       "      <th>form_id</th>\n",
       "      <th>views</th>\n",
       "      <th>submissions</th>\n",
       "      <th>feat_01</th>\n",
       "      <th>feat_02</th>\n",
       "      <th>feat_03</th>\n",
       "      <th>feat_04</th>\n",
       "      <th>feat_05</th>\n",
       "      <th>feat_06</th>\n",
       "      <th>feat_07</th>\n",
       "      <th>...</th>\n",
       "      <th>feat_38</th>\n",
       "      <th>feat_39</th>\n",
       "      <th>feat_40</th>\n",
       "      <th>feat_41</th>\n",
       "      <th>feat_42</th>\n",
       "      <th>feat_43</th>\n",
       "      <th>feat_44</th>\n",
       "      <th>feat_45</th>\n",
       "      <th>feat_46</th>\n",
       "      <th>feat_47</th>\n",
       "    </tr>\n",
       "  </thead>\n",
       "  <tbody>\n",
       "    <tr>\n",
       "      <th>count</th>\n",
       "      <td>1031284.0</td>\n",
       "      <td>1031284.0</td>\n",
       "      <td>1031284.0</td>\n",
       "      <td>1031284.0</td>\n",
       "      <td>1031284.0</td>\n",
       "      <td>1031284.0</td>\n",
       "      <td>1031284.0</td>\n",
       "      <td>1031284.0</td>\n",
       "      <td>1031284.0</td>\n",
       "      <td>1031284.0</td>\n",
       "      <td>...</td>\n",
       "      <td>1031284.0</td>\n",
       "      <td>1031284.0</td>\n",
       "      <td>1031284.0</td>\n",
       "      <td>1031284.0</td>\n",
       "      <td>1031284.0</td>\n",
       "      <td>1031284.0</td>\n",
       "      <td>1031284.0</td>\n",
       "      <td>1031284.0</td>\n",
       "      <td>1031284.0</td>\n",
       "      <td>1031284.0</td>\n",
       "    </tr>\n",
       "    <tr>\n",
       "      <th>mean</th>\n",
       "      <td>7987444.0</td>\n",
       "      <td>939.6</td>\n",
       "      <td>322.4</td>\n",
       "      <td>0.2</td>\n",
       "      <td>0.4</td>\n",
       "      <td>0.1</td>\n",
       "      <td>0.0</td>\n",
       "      <td>0.1</td>\n",
       "      <td>0.2</td>\n",
       "      <td>0.9</td>\n",
       "      <td>...</td>\n",
       "      <td>0.2</td>\n",
       "      <td>0.1</td>\n",
       "      <td>0.2</td>\n",
       "      <td>0.2</td>\n",
       "      <td>0.3</td>\n",
       "      <td>0.3</td>\n",
       "      <td>0.0</td>\n",
       "      <td>0.8</td>\n",
       "      <td>0.6</td>\n",
       "      <td>4.5</td>\n",
       "    </tr>\n",
       "    <tr>\n",
       "      <th>std</th>\n",
       "      <td>3965055.9</td>\n",
       "      <td>26748.7</td>\n",
       "      <td>8507.7</td>\n",
       "      <td>0.4</td>\n",
       "      <td>0.9</td>\n",
       "      <td>0.4</td>\n",
       "      <td>0.0</td>\n",
       "      <td>0.5</td>\n",
       "      <td>0.9</td>\n",
       "      <td>1.9</td>\n",
       "      <td>...</td>\n",
       "      <td>1.3</td>\n",
       "      <td>0.4</td>\n",
       "      <td>1.2</td>\n",
       "      <td>0.8</td>\n",
       "      <td>0.6</td>\n",
       "      <td>0.6</td>\n",
       "      <td>0.3</td>\n",
       "      <td>4.3</td>\n",
       "      <td>6.0</td>\n",
       "      <td>10.9</td>\n",
       "    </tr>\n",
       "    <tr>\n",
       "      <th>min</th>\n",
       "      <td>225513.0</td>\n",
       "      <td>1.0</td>\n",
       "      <td>0.0</td>\n",
       "      <td>0.0</td>\n",
       "      <td>0.0</td>\n",
       "      <td>0.0</td>\n",
       "      <td>0.0</td>\n",
       "      <td>0.0</td>\n",
       "      <td>0.0</td>\n",
       "      <td>0.0</td>\n",
       "      <td>...</td>\n",
       "      <td>0.0</td>\n",
       "      <td>0.0</td>\n",
       "      <td>0.0</td>\n",
       "      <td>0.0</td>\n",
       "      <td>0.0</td>\n",
       "      <td>0.0</td>\n",
       "      <td>0.0</td>\n",
       "      <td>0.0</td>\n",
       "      <td>0.0</td>\n",
       "      <td>0.0</td>\n",
       "    </tr>\n",
       "    <tr>\n",
       "      <th>25%</th>\n",
       "      <td>3849671.2</td>\n",
       "      <td>36.0</td>\n",
       "      <td>17.0</td>\n",
       "      <td>0.0</td>\n",
       "      <td>0.0</td>\n",
       "      <td>0.0</td>\n",
       "      <td>0.0</td>\n",
       "      <td>0.0</td>\n",
       "      <td>0.0</td>\n",
       "      <td>0.0</td>\n",
       "      <td>...</td>\n",
       "      <td>0.0</td>\n",
       "      <td>0.0</td>\n",
       "      <td>0.0</td>\n",
       "      <td>0.0</td>\n",
       "      <td>0.0</td>\n",
       "      <td>0.0</td>\n",
       "      <td>0.0</td>\n",
       "      <td>0.0</td>\n",
       "      <td>0.0</td>\n",
       "      <td>0.0</td>\n",
       "    </tr>\n",
       "    <tr>\n",
       "      <th>50%</th>\n",
       "      <td>9887946.0</td>\n",
       "      <td>79.0</td>\n",
       "      <td>33.0</td>\n",
       "      <td>0.0</td>\n",
       "      <td>0.0</td>\n",
       "      <td>0.0</td>\n",
       "      <td>0.0</td>\n",
       "      <td>0.0</td>\n",
       "      <td>0.0</td>\n",
       "      <td>0.0</td>\n",
       "      <td>...</td>\n",
       "      <td>0.0</td>\n",
       "      <td>0.0</td>\n",
       "      <td>0.0</td>\n",
       "      <td>0.0</td>\n",
       "      <td>0.0</td>\n",
       "      <td>0.0</td>\n",
       "      <td>0.0</td>\n",
       "      <td>0.0</td>\n",
       "      <td>0.0</td>\n",
       "      <td>0.0</td>\n",
       "    </tr>\n",
       "    <tr>\n",
       "      <th>75%</th>\n",
       "      <td>11494345.2</td>\n",
       "      <td>226.0</td>\n",
       "      <td>90.0</td>\n",
       "      <td>0.0</td>\n",
       "      <td>0.0</td>\n",
       "      <td>0.0</td>\n",
       "      <td>0.0</td>\n",
       "      <td>0.0</td>\n",
       "      <td>0.0</td>\n",
       "      <td>1.0</td>\n",
       "      <td>...</td>\n",
       "      <td>0.0</td>\n",
       "      <td>0.0</td>\n",
       "      <td>0.0</td>\n",
       "      <td>0.0</td>\n",
       "      <td>1.0</td>\n",
       "      <td>1.0</td>\n",
       "      <td>0.0</td>\n",
       "      <td>0.0</td>\n",
       "      <td>0.0</td>\n",
       "      <td>5.0</td>\n",
       "    </tr>\n",
       "    <tr>\n",
       "      <th>max</th>\n",
       "      <td>13501001.0</td>\n",
       "      <td>12267178.0</td>\n",
       "      <td>6754385.0</td>\n",
       "      <td>1.0</td>\n",
       "      <td>55.0</td>\n",
       "      <td>78.0</td>\n",
       "      <td>5.0</td>\n",
       "      <td>87.0</td>\n",
       "      <td>96.0</td>\n",
       "      <td>124.0</td>\n",
       "      <td>...</td>\n",
       "      <td>105.0</td>\n",
       "      <td>46.0</td>\n",
       "      <td>100.0</td>\n",
       "      <td>135.0</td>\n",
       "      <td>87.0</td>\n",
       "      <td>87.0</td>\n",
       "      <td>87.0</td>\n",
       "      <td>590.0</td>\n",
       "      <td>2065.0</td>\n",
       "      <td>1145.0</td>\n",
       "    </tr>\n",
       "  </tbody>\n",
       "</table>\n",
       "<p>8 rows × 50 columns</p>\n",
       "</div>"
      ],
      "text/plain": [
       "          form_id       views submissions    feat_01    feat_02    feat_03  \\\n",
       "count   1031284.0   1031284.0   1031284.0  1031284.0  1031284.0  1031284.0   \n",
       "mean    7987444.0       939.6       322.4        0.2        0.4        0.1   \n",
       "std     3965055.9     26748.7      8507.7        0.4        0.9        0.4   \n",
       "min      225513.0         1.0         0.0        0.0        0.0        0.0   \n",
       "25%     3849671.2        36.0        17.0        0.0        0.0        0.0   \n",
       "50%     9887946.0        79.0        33.0        0.0        0.0        0.0   \n",
       "75%    11494345.2       226.0        90.0        0.0        0.0        0.0   \n",
       "max    13501001.0  12267178.0   6754385.0        1.0       55.0       78.0   \n",
       "\n",
       "         feat_04    feat_05    feat_06    feat_07  ...    feat_38    feat_39  \\\n",
       "count  1031284.0  1031284.0  1031284.0  1031284.0  ...  1031284.0  1031284.0   \n",
       "mean         0.0        0.1        0.2        0.9  ...        0.2        0.1   \n",
       "std          0.0        0.5        0.9        1.9  ...        1.3        0.4   \n",
       "min          0.0        0.0        0.0        0.0  ...        0.0        0.0   \n",
       "25%          0.0        0.0        0.0        0.0  ...        0.0        0.0   \n",
       "50%          0.0        0.0        0.0        0.0  ...        0.0        0.0   \n",
       "75%          0.0        0.0        0.0        1.0  ...        0.0        0.0   \n",
       "max          5.0       87.0       96.0      124.0  ...      105.0       46.0   \n",
       "\n",
       "         feat_40    feat_41    feat_42    feat_43    feat_44    feat_45  \\\n",
       "count  1031284.0  1031284.0  1031284.0  1031284.0  1031284.0  1031284.0   \n",
       "mean         0.2        0.2        0.3        0.3        0.0        0.8   \n",
       "std          1.2        0.8        0.6        0.6        0.3        4.3   \n",
       "min          0.0        0.0        0.0        0.0        0.0        0.0   \n",
       "25%          0.0        0.0        0.0        0.0        0.0        0.0   \n",
       "50%          0.0        0.0        0.0        0.0        0.0        0.0   \n",
       "75%          0.0        0.0        1.0        1.0        0.0        0.0   \n",
       "max        100.0      135.0       87.0       87.0       87.0      590.0   \n",
       "\n",
       "         feat_46    feat_47  \n",
       "count  1031284.0  1031284.0  \n",
       "mean         0.6        4.5  \n",
       "std          6.0       10.9  \n",
       "min          0.0        0.0  \n",
       "25%          0.0        0.0  \n",
       "50%          0.0        0.0  \n",
       "75%          0.0        5.0  \n",
       "max       2065.0     1145.0  \n",
       "\n",
       "[8 rows x 50 columns]"
      ]
     },
     "execution_count": 15,
     "metadata": {},
     "output_type": "execute_result"
    }
   ],
   "source": [
    "df.describe().applymap(lambda x: '%.1f' % x)"
   ]
  },
  {
   "cell_type": "code",
   "execution_count": 16,
   "metadata": {},
   "outputs": [
    {
     "data": {
      "text/plain": [
       "form_id        1031284\n",
       "views            18927\n",
       "submissions      11707\n",
       "feat_01              2\n",
       "feat_02             46\n",
       "feat_03             44\n",
       "feat_04              5\n",
       "feat_05             38\n",
       "feat_06             59\n",
       "feat_07             79\n",
       "feat_08             14\n",
       "feat_09             62\n",
       "feat_10             12\n",
       "feat_11             32\n",
       "feat_12             30\n",
       "feat_13             22\n",
       "feat_14             51\n",
       "feat_15             12\n",
       "feat_16             69\n",
       "feat_17             56\n",
       "feat_18             39\n",
       "feat_19             75\n",
       "feat_20              2\n",
       "feat_21            155\n",
       "feat_22             78\n",
       "feat_23            119\n",
       "feat_24             28\n",
       "feat_25             66\n",
       "feat_26             32\n",
       "feat_27             38\n",
       "feat_28             38\n",
       "feat_29             41\n",
       "feat_30             74\n",
       "feat_31             26\n",
       "feat_32             27\n",
       "feat_33             83\n",
       "feat_34             59\n",
       "feat_35             18\n",
       "feat_36             72\n",
       "feat_37             60\n",
       "feat_38             72\n",
       "feat_39             38\n",
       "feat_40             69\n",
       "feat_41             52\n",
       "feat_42             35\n",
       "feat_43             39\n",
       "feat_44             25\n",
       "feat_45            218\n",
       "feat_46            287\n",
       "feat_47            326\n",
       "dtype: int64"
      ]
     },
     "execution_count": 16,
     "metadata": {},
     "output_type": "execute_result"
    }
   ],
   "source": [
    "df.nunique()"
   ]
  },
  {
   "cell_type": "code",
   "execution_count": 18,
   "metadata": {},
   "outputs": [
    {
     "data": {
      "text/plain": [
       "form_id        0\n",
       "views          0\n",
       "submissions    0\n",
       "feat_01        0\n",
       "feat_02        0\n",
       "feat_03        0\n",
       "feat_04        0\n",
       "feat_05        0\n",
       "feat_06        0\n",
       "feat_07        0\n",
       "feat_08        0\n",
       "feat_09        0\n",
       "feat_10        0\n",
       "feat_11        0\n",
       "feat_12        0\n",
       "feat_13        0\n",
       "feat_14        0\n",
       "feat_15        0\n",
       "feat_16        0\n",
       "feat_17        0\n",
       "feat_18        0\n",
       "feat_19        0\n",
       "feat_20        0\n",
       "feat_21        0\n",
       "feat_22        0\n",
       "feat_23        0\n",
       "feat_24        0\n",
       "feat_25        0\n",
       "feat_26        0\n",
       "feat_27        0\n",
       "feat_28        0\n",
       "feat_29        0\n",
       "feat_30        0\n",
       "feat_31        0\n",
       "feat_32        0\n",
       "feat_33        0\n",
       "feat_34        0\n",
       "feat_35        0\n",
       "feat_36        0\n",
       "feat_37        0\n",
       "feat_38        0\n",
       "feat_39        0\n",
       "feat_40        0\n",
       "feat_41        0\n",
       "feat_42        0\n",
       "feat_43        0\n",
       "feat_44        0\n",
       "feat_45        0\n",
       "feat_46        0\n",
       "feat_47        0\n",
       "dtype: int64"
      ]
     },
     "execution_count": 18,
     "metadata": {},
     "output_type": "execute_result"
    }
   ],
   "source": [
    "df.isna().sum()"
   ]
  },
  {
   "cell_type": "code",
   "execution_count": 52,
   "metadata": {},
   "outputs": [
    {
     "data": {
      "text/plain": [
       "<AxesSubplot:>"
      ]
     },
     "execution_count": 52,
     "metadata": {},
     "output_type": "execute_result"
    },
    {
     "data": {
      "image/png": "[encoded data removed]",
      "text/plain": [
       "<Figure size 432x288 with 1 Axes>"
      ]
     },
     "metadata": {
      "needs_background": "light"
     },
     "output_type": "display_data"
    }
   ],
   "source": [
    "df['views'].hist()"
   ]
  },
  {
   "cell_type": "code",
   "execution_count": 55,
   "metadata": {},
   "outputs": [
    {
     "data": {
      "text/plain": [
       "<AxesSubplot:>"
      ]
     },
     "execution_count": 55,
     "metadata": {},
     "output_type": "execute_result"
    },
    {
     "data": {
      "image/png": "[encoded data removed]",
      "text/plain": [
       "<Figure size 432x288 with 1 Axes>"
      ]
     },
     "metadata": {
      "needs_background": "light"
     },
     "output_type": "display_data"
    }
   ],
   "source": [
    "df['views'][df['views'] < 1000].hist()"
   ]
  },
  {
   "cell_type": "code",
   "execution_count": 51,
   "metadata": {},
   "outputs": [
    {
     "data": {
      "text/plain": [
       "<AxesSubplot:>"
      ]
     },
     "execution_count": 51,
     "metadata": {},
     "output_type": "execute_result"
    },
    {
     "data": {
      "image/png": "[encoded data removed]",
      "text/plain": [
       "<Figure size 432x288 with 1 Axes>"
      ]
     },
     "metadata": {
      "needs_background": "light"
     },
     "output_type": "display_data"
    }
   ],
   "source": [
    "df['completion_rate'].hist()"
   ]
  },
  {
   "cell_type": "code",
   "execution_count": 59,
   "metadata": {},
   "outputs": [],
   "source": [
    "df_corr = df.corr()"
   ]
  },
  {
   "cell_type": "code",
   "execution_count": 62,
   "metadata": {},
   "outputs": [
    {
     "data": {
      "text/plain": [
       "<AxesSubplot:>"
      ]
     },
     "execution_count": 62,
     "metadata": {},
     "output_type": "execute_result"
    },
    {
     "data": {
      "image/png": "[encoded data removed]",
      "text/plain": [
       "<Figure size 864x720 with 2 Axes>"
      ]
     },
     "metadata": {
      "needs_background": "light"
     },
     "output_type": "display_data"
    }
   ],
   "source": [
    "import seaborn as sns\n",
    "import matplotlib.pyplot as plt\n",
    "fig, ax = plt.subplots(figsize=(12, 10))         \n",
    "sns.heatmap(df_corr, ax=ax)"
   ]
  },
  {
   "cell_type": "code",
   "execution_count": 68,
   "metadata": {},
   "outputs": [
    {
     "data": {
      "image/png": "[encoded data removed]",
      "text/plain": [
       "<Figure size 720x720 with 42 Axes>"
      ]
     },
     "metadata": {
      "needs_background": "light"
     },
     "output_type": "display_data"
    }
   ],
   "source": [
    "import seaborn as sns\n",
    "import matplotlib.pyplot as plt\n",
    "\n",
    "fig, axs = plt.subplots(7, 6, figsize=(10, 10))\n",
    "f = 0\n",
    "for i in range(7):\n",
    "    for j in range(6):    \n",
    "        df[features[f]].hist(ax=axs[i, j])\n",
    "        f += 1\n",
    "\n",
    "# Presence of outliers is evident in most variables, but I wont\n",
    "# remove them without business knowledge about them."
   ]
  },
  {
   "cell_type": "code",
   "execution_count": 72,
   "metadata": {},
   "outputs": [
    {
     "data": {
      "text/plain": [
       "<AxesSubplot:>"
      ]
     },
     "execution_count": 72,
     "metadata": {},
     "output_type": "execute_result"
    },
    {
     "data": {
      "image/png": "[encoded data removed]",
      "text/plain": [
       "<Figure size 432x288 with 1 Axes>"
      ]
     },
     "metadata": {
      "needs_background": "light"
     },
     "output_type": "display_data"
    }
   ],
   "source": [
    "df['feat_02'][df['feat_02']<10].hist()\n",
    "# For example most observations in feature 2 happen before 10."
   ]
  },
  {
   "cell_type": "code",
   "execution_count": 20,
   "metadata": {},
   "outputs": [
    {
     "data": {
      "text/plain": [
       "0.7817589814365051"
      ]
     },
     "execution_count": 20,
     "metadata": {},
     "output_type": "execute_result"
    }
   ],
   "source": [
    "# Sparsity\n",
    "(df.values == 0).sum()/df.size"
   ]
  }
 ],
 "metadata": {
  "kernelspec": {
   "display_name": "Python 3",
   "language": "python",
   "name": "python3"
  },
  "language_info": {
   "codemirror_mode": {
    "name": "ipython",
    "version": 3
   },
   "file_extension": ".py",
   "mimetype": "text/x-python",
   "name": "python",
   "nbconvert_exporter": "python",
   "pygments_lexer": "ipython3",
   "version": "3.7.7"
  }
 },
 "nbformat": 4,
 "nbformat_minor": 4
}
