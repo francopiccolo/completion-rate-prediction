{
 "cells": [
  {
   "cell_type": "code",
   "execution_count": 1,
   "metadata": {},
   "outputs": [
    {
     "data": {
      "text/plain": [
       "'/Users/francopiccolo/GitHub/completion-rate-prediction/notebooks'"
      ]
     },
     "execution_count": 1,
     "metadata": {},
     "output_type": "execute_result"
    }
   ],
   "source": [
    "import os\n",
    "os.getcwd()"
   ]
  },
  {
   "cell_type": "code",
   "execution_count": 2,
   "metadata": {},
   "outputs": [
    {
     "data": {
      "text/plain": [
       "'/Users/francopiccolo/GitHub/completion-rate-prediction'"
      ]
     },
     "execution_count": 2,
     "metadata": {},
     "output_type": "execute_result"
    }
   ],
   "source": [
    "os.chdir('../')\n",
    "os.getcwd()"
   ]
  },
  {
   "cell_type": "code",
   "execution_count": 9,
   "metadata": {},
   "outputs": [],
   "source": [
    "import pandas as pd\n",
    "import numpy as np"
   ]
  },
  {
   "cell_type": "code",
   "execution_count": 4,
   "metadata": {},
   "outputs": [],
   "source": [
    "# Data load\n",
    "df = pd.read_csv('./flask/data/completion_rate.csv')"
   ]
  },
  {
   "cell_type": "code",
   "execution_count": 5,
   "metadata": {},
   "outputs": [],
   "source": [
    "# Preprocessing\n",
    "df['completion_rate'] = df['submissions'] / df['views']"
   ]
  },
  {
   "cell_type": "code",
   "execution_count": 7,
   "metadata": {},
   "outputs": [],
   "source": [
    "# Train, val, test, split\n",
    "from sklearn.model_selection import train_test_split\n",
    "from sklearn.ensemble import RandomForestRegressor\n",
    "\n",
    "features = [col for col in df.columns if col.startswith('feat')]\n",
    "X = df[features]\n",
    "y = df['completion_rate']\n",
    "\n",
    "X_train_val, X_test, y_train_val, y_test = train_test_split(X, y, \n",
    "                                                    test_size=0.15,\n",
    "                                                    random_state=42)\n",
    "\n",
    "X_train, X_val, y_train, y_val = train_test_split(\n",
    "                                  X_train_val, y_train_val,\n",
    "                                  test_size=0.15/0.85,\n",
    "                                  random_state=42)\n",
    "\n",
    "def get_mean_error(y_true, y_pred):\n",
    "    error = y_pred - y_true\n",
    "    abs_error = abs(error)\n",
    "    return np.mean(abs_error)"
   ]
  },
  {
   "cell_type": "code",
   "execution_count": 11,
   "metadata": {},
   "outputs": [
    {
     "name": "stdout",
     "output_type": "stream",
     "text": [
      "Max depth 3\n",
      "N estimators 10\n",
      "Mean train absolute error 0.17774796907455367\n",
      "Mean val absolute error 0.17742732371944567\n",
      "Training time 9.323480129241943\n",
      "Max depth 3\n",
      "N estimators 50\n",
      "Mean train absolute error 0.17767236495860997\n",
      "Mean val absolute error 0.17734721641376341\n",
      "Training time 43.51104497909546\n",
      "Max depth 3\n",
      "N estimators 100\n",
      "Mean train absolute error 0.17775382725384184\n",
      "Mean val absolute error 0.17743304108032884\n",
      "Training time 94.04326820373535\n",
      "Max depth 5\n",
      "N estimators 10\n",
      "Mean train absolute error 0.17520161806006643\n",
      "Mean val absolute error 0.17486292534809975\n",
      "Training time 16.105186939239502\n",
      "Max depth 5\n",
      "N estimators 50\n",
      "Mean train absolute error 0.17519272552707504\n",
      "Mean val absolute error 0.1748571761882717\n",
      "Training time 67.40108394622803\n",
      "Max depth 5\n",
      "N estimators 100\n",
      "Mean train absolute error 0.17519502596842262\n",
      "Mean val absolute error 0.17485467401297955\n",
      "Training time 177.4080662727356\n",
      "Max depth 7\n",
      "N estimators 10\n",
      "Mean train absolute error 0.17361578036082698\n",
      "Mean val absolute error 0.17348816270004455\n",
      "Training time 24.636507987976074\n",
      "Max depth 7\n",
      "N estimators 50\n",
      "Mean train absolute error 0.17355359985955834\n",
      "Mean val absolute error 0.1734179599348152\n",
      "Training time 124.74637484550476\n",
      "Max depth 7\n",
      "N estimators 100\n",
      "Mean train absolute error 0.17357403220229065\n",
      "Mean val absolute error 0.17343298032207954\n",
      "Training time 230.6478180885315\n",
      "Max depth 9\n",
      "N estimators 10\n",
      "Mean train absolute error 0.1721966691900073\n",
      "Mean val absolute error 0.17236575757413064\n",
      "Training time 27.92596411705017\n",
      "Max depth 9\n",
      "N estimators 50\n",
      "Mean train absolute error 0.17213732642090313\n",
      "Mean val absolute error 0.17231886165638657\n",
      "Training time 149.85013508796692\n",
      "Max depth 9\n",
      "N estimators 100\n",
      "Mean train absolute error 0.17212870801870364\n",
      "Mean val absolute error 0.17230656341088768\n",
      "Training time 287.0097951889038\n"
     ]
    }
   ],
   "source": [
    "# Hyperparam optimization for max_depth and number of estimators\n",
    "# these are the most important parameters\n",
    "\n",
    "from itertools import product\n",
    "import time\n",
    "\n",
    "import numpy as np\n",
    "\n",
    "\n",
    "max_depths = [3, 5, 7, 9]\n",
    "n_estimators = [10, 50, 100]\n",
    "\n",
    "def try_hyperparam(max_depths, n_estimators)\n",
    "    for max_depth, n_estimators in product(max_depths, n_estimators):\n",
    "        random_forest = RandomForestRegressor(max_depth=max_depth,\n",
    "                                              n_estimators=n_estimators,\n",
    "                                              n_jobs=4)\n",
    "        start = time.time()\n",
    "        random_forest.fit(X_train, y_train)\n",
    "        end = time.time()\n",
    "        y_train_pred = random_forest.predict(X_train)\n",
    "        y_val_pred = random_forest.predict(X_val)\n",
    "        print('Max depth', max_depth)\n",
    "        print('N estimators', n_estimators)\n",
    "        print('Mean train absolute error', get_mean_error(y_train, y_train_pred))\n",
    "        print('Mean val absolute error', get_mean_error(y_val, y_val_pred))\n",
    "        print('Training time', end - start)\n",
    "try_hyperparam(max_depths, n_estimators)"
   ]
  },
  {
   "cell_type": "code",
   "execution_count": 16,
   "metadata": {},
   "outputs": [
    {
     "name": "stdout",
     "output_type": "stream",
     "text": [
      "Max depth 10\n",
      "N estimators 10\n",
      "Mean train absolute error 0.17146029848896197\n",
      "Mean val absolute error 0.1719476811421716\n",
      "Training time 27.44524908065796\n",
      "Max depth 20\n",
      "N estimators 10\n",
      "Mean train absolute error 0.1579480743988291\n",
      "Mean val absolute error 0.17079487623887527\n",
      "Training time 46.40775012969971\n",
      "Max depth 30\n",
      "N estimators 10\n",
      "Mean train absolute error 0.13820552751121687\n",
      "Mean val absolute error 0.17292468747273573\n",
      "Training time 51.451271772384644\n"
     ]
    }
   ],
   "source": [
    "# Increasing estimators doesnt change much max_depth makes more difference\n",
    "# Try several max_depths greater than 9 which performed best above\n",
    "\n",
    "max_depths = [10, 20, 30]\n",
    "n_estimators = [10]\n",
    "try_hyperparam(max_depths, n_estimators)"
   ]
  },
  {
   "cell_type": "code",
   "execution_count": 10,
   "metadata": {},
   "outputs": [
    {
     "name": "stdout",
     "output_type": "stream",
     "text": [
      "Mean train absolute error 0.15739645734068497\n",
      "Mean test absolute error 0.17031041191857835\n"
     ]
    }
   ],
   "source": [
    "# I choose 20 max_Depth and 30 trees\n",
    "random_forest = RandomForestRegressor(max_depth=20,\n",
    "                                      n_estimators=30,\n",
    "                                      n_jobs=4)\n",
    "random_forest.fit(X_train, y_train)\n",
    "y_train_pred = random_forest.predict(X_train)\n",
    "y_test_pred = random_forest.predict(X_test)\n",
    "print('Mean train absolute error', get_mean_error(y_train, y_train_pred))\n",
    "print('Mean test absolute error', get_mean_error(y_test, y_test_pred))"
   ]
  },
  {
   "cell_type": "code",
   "execution_count": 14,
   "metadata": {},
   "outputs": [
    {
     "name": "stdout",
     "output_type": "stream",
     "text": [
      "Mean train absolute error 0.15739645734068497\n",
      "Mean test absolute error 0.17031041191857835\n"
     ]
    }
   ],
   "source": [
    "# Adjusting prediction to be between 0 and 1\n",
    "# Doesn't change and makes sense since random forests\n",
    "# don't extrapolate\n",
    "\n",
    "def adjust_prediction(prediction):\n",
    "    prediction = np.where(prediction < 0, 0, prediction)\n",
    "    prediction = np.where(prediction > 1, 1, prediction)\n",
    "    return prediction\n",
    "\n",
    "y_train_pred = adjust_prediction(random_forest.predict(X_train))\n",
    "y_test_pred = adjust_prediction(random_forest.predict(X_test))\n",
    "print('Mean train absolute error', get_mean_error(y_train, y_train_pred))\n",
    "print('Mean test absolute error', get_mean_error(y_test, y_test_pred))"
   ]
  },
  {
   "cell_type": "code",
   "execution_count": 23,
   "metadata": {},
   "outputs": [
    {
     "data": {
      "text/plain": [
       "<matplotlib.axes._subplots.AxesSubplot at 0x124c5f3d0>"
      ]
     },
     "execution_count": 23,
     "metadata": {},
     "output_type": "execute_result"
    },
    {
     "data": {
      "image/png": "[encoded data removed]",
      "text/plain": [
       "<Figure size 432x288 with 1 Axes>"
      ]
     },
     "metadata": {
      "needs_background": "light"
     },
     "output_type": "display_data"
    }
   ],
   "source": [
    "# Feature importances, the importance curve is not steep\n",
    "# I decide to leave all features in the model\n",
    "\n",
    "df_feature_importance = pd.DataFrame({'feature': features, 'importance': random_forest.feature_importances_})\n",
    "df_feature_importance = df_feature_importance.sort_values(by='importance', ascending=False)\n",
    "df_feature_importance['importance_cum_sum'] = df_feature_importance['importance'].cumsum()\n",
    "df_feature_importance.plot(x='feature', y='importance_cum_sum')\n"
   ]
  }
 ],
 "metadata": {
  "kernelspec": {
   "display_name": "Python 3",
   "language": "python",
   "name": "python3"
  },
  "language_info": {
   "codemirror_mode": {
    "name": "ipython",
    "version": 3
   },
   "file_extension": ".py",
   "mimetype": "text/x-python",
   "name": "python",
   "nbconvert_exporter": "python",
   "pygments_lexer": "ipython3",
   "version": "3.7.7"
  }
 },
 "nbformat": 4,
 "nbformat_minor": 4
}
